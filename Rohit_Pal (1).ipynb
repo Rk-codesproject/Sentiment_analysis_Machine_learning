{
  "nbformat": 4,
  "nbformat_minor": 0,
  "metadata": {
    "colab": {
      "provenance": []
    },
    "kernelspec": {
      "name": "python3",
      "display_name": "Python 3"
    },
    "language_info": {
      "name": "python"
    }
  },
  "cells": [
    {
      "cell_type": "code",
      "execution_count": 9,
      "metadata": {
        "colab": {
          "base_uri": "https://localhost:8080/"
        },
        "id": "hA8vDqHuwA-Q",
        "outputId": "0caa20e5-f02f-4509-fa0e-b220880a5517"
      },
      "outputs": [
        {
          "output_type": "stream",
          "name": "stderr",
          "text": [
            "[nltk_data] Downloading package movie_reviews to /root/nltk_data...\n",
            "[nltk_data]   Package movie_reviews is already up-to-date!\n"
          ]
        },
        {
          "output_type": "stream",
          "name": "stdout",
          "text": [
            "\n",
            "Number of training data points: 1600\n",
            "Number of test data points: 400\n",
            "\n",
            "Accuracy of the classifier: 0.9825\n",
            "\n",
            "Top 10 most informative words\n",
            "outstanding\n",
            "insulting\n",
            "vulnerable\n",
            "ludicrous\n",
            "uninvolving\n",
            "astounding\n",
            "avoids\n",
            "fascination\n",
            "affecting\n",
            "animators\n",
            "\n",
            "Prediction\n",
            "\n",
            "Review: it is awesome movie.\n",
            "predicted senntiment: Positive\n",
            "probability: 0.69\n",
            "\n",
            "Review: it is so pathetic.\n",
            "predicted senntiment: Negative\n",
            "probability: 0.51\n",
            "\n",
            "Review: the movie was great\n",
            "predicted senntiment: Positive\n",
            "probability: 0.57\n",
            "\n",
            "Review: the content of movie was so impressive\n",
            "predicted senntiment: Positive\n",
            "probability: 0.61\n",
            "\n",
            "Review: i dont recommend that movie\n",
            "predicted senntiment: Negative\n",
            "probability: 0.74\n"
          ]
        }
      ],
      "source": [
        "from nltk.corpus.reader import reviews\n",
        "from nltk.tag.hmm import accuracy\n",
        "import nltk.classify.util\n",
        "from nltk.classify import NaiveBayesClassifier\n",
        "from nltk.corpus import movie_reviews\n",
        "\n",
        "import nltk\n",
        "nltk.download(\"movie_reviews\")\n",
        "def extract_features(word_list):\n",
        "  return dict([(word,True)for word in word_list])\n",
        "\n",
        "if __name__ ==\"__main__\":\n",
        "  #load positive and negative reviews\n",
        "  positive_fileids =movie_reviews.fileids('pos')\n",
        "  negative_fileids =movie_reviews.fileids('neg')\n",
        "\n",
        "features_positive =[(extract_features(movie_reviews.words(fileids =[f])),'Positive')for f in positive_fileids]\n",
        "features_negative =[(extract_features(movie_reviews.words(fileids =[f])),\"Negative\")for f in negative_fileids]\n",
        "\n",
        "#split the data into train and test\n",
        "threshold_factor =0.8\n",
        "threshold_positive =int(threshold_factor*len(features_positive))\n",
        "threshold_negative = int(threshold_factor*len(features_negative))\n",
        "features_train =features_positive[:threshold_positive]+features_negative[:threshold_negative]\n",
        "features_test = features_positive[threshold_positive:]+features_negative[threshold_negative:]\n",
        "\n",
        "print(\"\\nNumber of training data points:\",len(features_train))\n",
        "print(\"Number of test data points:\",len(features_test))\n",
        "\n",
        "#Train a NaiveBayes classifier\n",
        "classifier =NaiveBayesClassifier.train(features_train)\n",
        "print(\"\\nAccuracy of the classifier:\",nltk.classify.util.accuracy(classifier,features_train))\n",
        "print(\"\\nTop 10 most informative words\")\n",
        "for item in classifier.most_informative_features()[:10]:\n",
        "  print(item[0])\n",
        "\n",
        "#sample input reviews\n",
        "input_reviews =[\n",
        "    'it is awesome movie.',\n",
        "    'it is so pathetic.',\n",
        "    'the movie was great',\n",
        "    'the content of movie was so impressive',\n",
        "    'i dont recommend that movie'\n",
        "]\n",
        "print(\"\\nPrediction\")\n",
        "\n",
        "for review in input_reviews:\n",
        "  print(\"\\nReview:\",review)\n",
        "  probdist =classifier.prob_classify(extract_features(review.split()))\n",
        "  pred_sentiment =probdist.max()\n",
        "  print(\"predicted senntiment:\",pred_sentiment)\n",
        "  print(\"probability:\",round(probdist.prob(pred_sentiment),2))\n"
      ]
    }
  ]
}